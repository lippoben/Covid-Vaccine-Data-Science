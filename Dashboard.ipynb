{
 "cells": [
  {
   "cell_type": "code",
   "execution_count": 14,
   "metadata": {},
   "outputs": [],
   "source": [
    "from jupyter_dash import JupyterDash\n",
    "import dash_core_components as dcc\n",
    "import dash_html_components as html\n",
    "import pandas as pd\n",
    "import plotly.express as px\n",
    "from dash.dependencies import Input, Output\n",
    "\n",
    "data = pd.read_csv('Datasets/classified_data1.csv',error_bad_lines=False, index_col=False, dtype='unicode', nrows=100000)\n",
    "#data = data.query(\"state='Alabama'\")\n",
    "\n",
    "data.sort_values(\"likeCount\", inplace = True)\n",
    "data[\"likeCount\"] = pd.to_numeric(data[\"likeCount\"])\n",
    "data[\"replyCount\"] = pd.to_numeric(data[\"replyCount\"])\n",
    "data[\"retweetCount\"] = pd.to_numeric(data[\"retweetCount\"])\n",
    "app = JupyterDash(__name__)\n",
    "\n",
    "available_indicators = [\"date\",\"likeCount\",\"replyCount\",\"retweetCount\",\"start date\",\"sentiment\"]\n",
    "# add filter by state\n",
    "\n",
    "minimum,maximum = 0, 3000\n",
    "\n"
   ]
  },
  {
   "cell_type": "code",
   "execution_count": 15,
   "metadata": {},
   "outputs": [
    {
     "data": {
      "text/plain": [
       "'low, high = slider_range\\n    #low, high = [0,1000]\\n    mask = (data[\\'likeCount\\'] > low) & (data[\\'likeCount\\'] < high)\\n    fig = px.scatter(\\n        data[mask], x=\"date\", y=\"likeCount\")'"
      ]
     },
     "execution_count": 15,
     "metadata": {},
     "output_type": "execute_result"
    }
   ],
   "source": [
    "\n",
    "\n",
    "app.layout = html.Div([\n",
    "    html.Div([\n",
    "        html.Div([\n",
    "            dcc.Dropdown(\n",
    "                id=\"xaxis-column\",\n",
    "                options = [{'label': i, 'value': i} for i in available_indicators],\n",
    "                value=\"likeCount\"\n",
    "            ),\n",
    "            #Radio item functionality not implemented yet\n",
    "            dcc.RadioItems(\n",
    "                id=\"xaxis-type\",\n",
    "                options=[{'label': i, 'value': i} for i in ['Linear', 'Log']],\n",
    "                value='Linear',\n",
    "                labelStyle={'display': 'inline-block'}\n",
    "            \n",
    "            )\n",
    "            \n",
    "\n",
    "        ]),\n",
    "        \n",
    "        html.Div([\n",
    "            dcc.Dropdown(\n",
    "                id=\"yaxis-column\",\n",
    "                options = [{'label': i, 'value': i} for i in available_indicators],\n",
    "                value=\"likeCount\"\n",
    "            ),\n",
    "            #Radio item functionality not implemented yet\n",
    "            dcc.RadioItems(\n",
    "                id=\"yaxis-type\",\n",
    "                options=[{'label': i, 'value': i} for i in ['Linear', 'Log']],\n",
    "                value='Linear',\n",
    "                labelStyle={'display': 'inline-block'}\n",
    "            \n",
    "            )\n",
    "            \n",
    "\n",
    "        ])\n",
    "    ]),\n",
    "    \n",
    "    \n",
    "    \n",
    "    dcc.Graph(id=\"over-time-scatter\"),\n",
    "    html.P(\"Like Slider\"),\n",
    "    dcc.RangeSlider(\n",
    "        id=\"x-range-slider\",\n",
    "        min=minimum, max = maximum, step = 1,\n",
    "        marks={minimum: str(minimum), maximum: str(maximum)},\n",
    "        value=[minimum,maximum]\n",
    "    ),\n",
    "    \n",
    "    ]   \n",
    ")\n",
    "\n",
    "@app.callback(\n",
    "    Output(\"over-time-scatter\", \"figure\"),\n",
    "    Input('xaxis-column', 'value'),\n",
    "    Input('yaxis-column', 'value'),\n",
    "    Input('xaxis-type', 'value'),\n",
    "    Input('yaxis-type', 'value'),\n",
    "    [Input(\"x-range-slider\", \"value\")])\n",
    "def update_graph(xaxis_column_name, yaxis_column_name,\n",
    "                 xaxis_type, yaxis_type, slider_range):\n",
    "    #low, high = slider_range\n",
    "    #low, high = [0,1000]\n",
    "    #mask = (data['likeCount'] > low) & (data['likeCount'] < high)\n",
    "    fig = px.scatter(\n",
    "        data, x=xaxis_column_name, y=yaxis_column_name)\n",
    "    return fig\n",
    "\n",
    "\n",
    "'''low, high = slider_range\n",
    "    #low, high = [0,1000]\n",
    "    mask = (data['likeCount'] > low) & (data['likeCount'] < high)\n",
    "    fig = px.scatter(\n",
    "        data[mask], x=\"date\", y=\"likeCount\")'''"
   ]
  },
  {
   "cell_type": "code",
   "execution_count": 16,
   "metadata": {},
   "outputs": [
    {
     "data": {
      "text/html": [
       "\n",
       "        <iframe\n",
       "            width=\"100%\"\n",
       "            height=\"650\"\n",
       "            src=\"http://127.0.0.1:1002/\"\n",
       "            frameborder=\"0\"\n",
       "            allowfullscreen\n",
       "        ></iframe>\n",
       "        "
      ],
      "text/plain": [
       "<IPython.lib.display.IFrame at 0x1f32443afd0>"
      ]
     },
     "metadata": {},
     "output_type": "display_data"
    }
   ],
   "source": [
    "app.run_server(mode='inline', port=1002)"
   ]
  },
  {
   "cell_type": "code",
   "execution_count": null,
   "metadata": {},
   "outputs": [],
   "source": []
  }
 ],
 "metadata": {
  "kernelspec": {
   "display_name": "Python 3",
   "language": "python",
   "name": "python3"
  },
  "language_info": {
   "codemirror_mode": {
    "name": "ipython",
    "version": 3
   },
   "file_extension": ".py",
   "mimetype": "text/x-python",
   "name": "python",
   "nbconvert_exporter": "python",
   "pygments_lexer": "ipython3",
   "version": "3.6.5"
  }
 },
 "nbformat": 4,
 "nbformat_minor": 4
}
