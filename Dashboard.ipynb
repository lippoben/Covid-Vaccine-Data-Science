{
 "cells": [
  {
   "cell_type": "code",
   "execution_count": 86,
   "metadata": {},
   "outputs": [],
   "source": [
    "from jupyter_dash import JupyterDash\n",
    "import dash_core_components as dcc\n",
    "import dash_html_components as html\n",
    "import pandas as pd\n",
    "import plotly.express as px\n",
    "from dash.dependencies import Input, Output\n",
    "\n",
    "\n",
    "#\n",
    "data = pd.read_csv('Datasets/classified_data1.csv',error_bad_lines=False, index_col=False, dtype='unicode', nrows=100000)\n",
    "#data = data.query(\"state='Alabama'\")\n",
    "\n",
    "data.sort_values(\"likeCount\", inplace = True)\n",
    "data[\"likeCount\"] = pd.to_numeric(data[\"likeCount\"])\n",
    "data[\"replyCount\"] = pd.to_numeric(data[\"replyCount\"])\n",
    "data[\"retweetCount\"] = pd.to_numeric(data[\"retweetCount\"])\n",
    "app = JupyterDash(__name__)\n",
    "data[\"date\"] = data[\"date\"].astype('datetime64[ns]')\n",
    "\n",
    "\n",
    "available_indicators = [\"date\",\"likeCount\",\"replyCount\",\"retweetCount\",\"start date\",\"sentiment\"]\n",
    "# add filter by state\n",
    "\n",
    "minimum,maximum = 0, 3000\n",
    "\n"
   ]
  },
  {
   "cell_type": "code",
   "execution_count": 87,
   "metadata": {},
   "outputs": [],
   "source": [
    "\n",
    "\n",
    "app.layout = html.Div([\n",
    "    html.Div([\n",
    "        html.Div([\n",
    "            dcc.Dropdown(\n",
    "                id=\"xaxis-column\",\n",
    "                options = [{'label': i, 'value': i} for i in available_indicators],\n",
    "                value=\"date\"\n",
    "            ),\n",
    "            #Radio item functionality not implemented yet\n",
    "            dcc.RadioItems(\n",
    "                id=\"xaxis-type\",\n",
    "                options=[{'label': i, 'value': i} for i in ['Linear', 'Log']],\n",
    "                value='Linear',\n",
    "                labelStyle={'display': 'inline-block'}\n",
    "            \n",
    "            )\n",
    "            \n",
    "\n",
    "        ]),\n",
    "        \n",
    "        html.Div([\n",
    "            dcc.Dropdown(\n",
    "                id=\"yaxis-column\",\n",
    "                options = [{'label': i, 'value': i} for i in available_indicators],\n",
    "                value=\"likeCount\"\n",
    "            ),\n",
    "            #Radio item functionality not implemented yet\n",
    "            dcc.RadioItems(\n",
    "                id=\"yaxis-type\",\n",
    "                options=[{'label': i, 'value': i} for i in ['Linear', 'Log']],\n",
    "                value='Linear',\n",
    "                labelStyle={'display': 'inline-block'}\n",
    "            \n",
    "            )\n",
    "            \n",
    "\n",
    "        ])\n",
    "    ]),\n",
    "    \n",
    "    \n",
    "    \n",
    "    dcc.Graph(id=\"over-time-scatter\"),\n",
    "    html.P(\"Like Slider\"),\n",
    "    dcc.RangeSlider(\n",
    "        id=\"x-range-slider\",\n",
    "        min=minimum, max = maximum, step = 1,\n",
    "        marks={minimum: str(minimum), maximum: str(maximum)},\n",
    "        value=[minimum,maximum]\n",
    "    ),\n",
    "    html.Div([\n",
    "        \"Min - x: \",\n",
    "        dcc.Input(id=\"minimum-x-input\", value=0, type='number',min=0),\n",
    "        \" Max - x: \",\n",
    "        dcc.Input(id=\"maximum-x-input\",value=100,type='number',min=0)]),\n",
    "    \n",
    "    html.Div([\n",
    "        \"Min - y: \",\n",
    "        dcc.Input(id=\"minimum-y-input\", value=0, type='number', min=0),\n",
    "        \" Max - y: \",\n",
    "        dcc.Input(id=\"maximum-y-input\", value=100,type='number', min=0)]),\n",
    "    \n",
    "    ]\n",
    ")\n",
    "\n",
    "@app.callback(\n",
    "    Output(\"over-time-scatter\", \"figure\"),\n",
    "    Input('xaxis-column', 'value'),\n",
    "    Input('yaxis-column', 'value'),\n",
    "    Input('xaxis-type', 'value'),\n",
    "    Input('yaxis-type', 'value'),\n",
    "    [Input(\"x-range-slider\", \"value\")],\n",
    "    Input(\"minimum-x-input\", \"value\"),\n",
    "    Input(\"maximum-x-input\", \"value\"),\n",
    "    Input(\"minimum-y-input\", \"value\"),\n",
    "    Input(\"maximum-y-input\", \"value\")\n",
    "    \n",
    "\n",
    ")\n",
    "def update_graph(xaxis_column_name, yaxis_column_name,\n",
    "                 xaxis_type, yaxis_type, slider_range,\n",
    "                min_x, max_x,\n",
    "                min_y,max_y):\n",
    "    if xaxis_column_name == 'date':\n",
    "        mask_x = (data[\"date\"] >= data[\"date\"].min().replace(hour=0, minute=0, second=0) + pd.Timedelta(days=min_x)) & (data[\"date\"] <= data[\"date\"].min().replace(hour=0, minute=0, second=0) + pd.Timedelta(days=max_x))\n",
    "    else:\n",
    "         mask_x = (data[xaxis_column_name] >= min_x) & (data[xaxis_column_name] <= max_x)\n",
    "    if yaxis_column_name == 'date':\n",
    "        mask_y = (data[\"date\"] >= data[\"date\"].min().replace(hour=0, minute=0, second=0) + pd.Timedelta(days=min_y)) & (data[\"date\"] <= data[\"date\"].min().replace(hour=0, minute=0, second=0) + pd.Timedelta(days=max_y))\n",
    "    else:\n",
    "        mask_y = (data[yaxis_column_name] >= min_y) & (data[yaxis_column_name] <= max_y)\n",
    "    #mask is broken when using same data on both axis - not really a problem\n",
    "    mask = mask_x & mask_y\n",
    "    fig = px.scatter(\n",
    "        data[mask], x=xaxis_column_name, y=yaxis_column_name)\n",
    "    return fig\n"
   ]
  },
  {
   "cell_type": "code",
   "execution_count": 88,
   "metadata": {},
   "outputs": [
    {
     "data": {
      "text/html": [
       "\n",
       "        <iframe\n",
       "            width=\"100%\"\n",
       "            height=\"650\"\n",
       "            src=\"http://127.0.0.1:1002/\"\n",
       "            frameborder=\"0\"\n",
       "            allowfullscreen\n",
       "        ></iframe>\n",
       "        "
      ],
      "text/plain": [
       "<IPython.lib.display.IFrame at 0x2798f892c18>"
      ]
     },
     "metadata": {},
     "output_type": "display_data"
    }
   ],
   "source": [
    "app.run_server(mode='inline', port=1002)"
   ]
  },
  {
   "cell_type": "markdown",
   "metadata": {},
   "source": [
    "# "
   ]
  },
  {
   "cell_type": "code",
   "execution_count": null,
   "metadata": {},
   "outputs": [],
   "source": []
  }
 ],
 "metadata": {
  "kernelspec": {
   "display_name": "Python 3",
   "language": "python",
   "name": "python3"
  },
  "language_info": {
   "codemirror_mode": {
    "name": "ipython",
    "version": 3
   },
   "file_extension": ".py",
   "mimetype": "text/x-python",
   "name": "python",
   "nbconvert_exporter": "python",
   "pygments_lexer": "ipython3",
   "version": "3.6.5"
  }
 },
 "nbformat": 4,
 "nbformat_minor": 4
}
