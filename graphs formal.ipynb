{
 "cells": [
  {
   "cell_type": "code",
   "execution_count": null,
   "metadata": {},
   "outputs": [],
   "source": [
    "# We import the necessary packages \n",
    "\n",
    "import pandas as pd\n",
    "import numpy as np\n",
    "import matplotlib.pyplot as plt"
   ]
  },
  {
   "cell_type": "code",
   "execution_count": null,
   "metadata": {},
   "outputs": [],
   "source": [
    "# We import the coordinates of the states\n",
    "\n",
    "import json \n",
    "with open('gz_2010_us_040_00_500k.json') as json_file:\n",
    "    states = json.load(json_file)"
   ]
  },
  {
   "cell_type": "code",
   "execution_count": null,
   "metadata": {},
   "outputs": [],
   "source": [
    "# And add unique ids for mapping\n",
    "\n",
    "for i in range(len(states['features'])):\n",
    "    states['features'][i]['id'] = i"
   ]
  },
  {
   "cell_type": "code",
   "execution_count": null,
   "metadata": {},
   "outputs": [],
   "source": [
    "# We make a dataframe to contain the state name and its id\n",
    "\n",
    "columns = ['State Name', 'id']\n",
    "\n",
    "state_ids_df = pd.DataFrame(columns = columns)"
   ]
  },
  {
   "cell_type": "code",
   "execution_count": null,
   "metadata": {},
   "outputs": [],
   "source": [
    "# We fill the dataframe\n",
    "\n",
    "state_names = []\n",
    "state_ids = []\n",
    "\n",
    "for i in range(len(states['features'])):\n",
    "    state_names.append(states['features'][i]['properties']['NAME'])\n",
    "    state_ids.append(states['features'][i]['id'])"
   ]
  },
  {
   "cell_type": "code",
   "execution_count": null,
   "metadata": {},
   "outputs": [],
   "source": [
    "state_ids_df['State Name'] = state_names\n",
    "state_ids_df['id'] = state_ids\n",
    "\n",
    "state_ids_df"
   ]
  },
  {
   "cell_type": "code",
   "execution_count": null,
   "metadata": {},
   "outputs": [],
   "source": []
  },
  {
   "cell_type": "code",
   "execution_count": null,
   "metadata": {},
   "outputs": [],
   "source": []
  },
  {
   "cell_type": "code",
   "execution_count": null,
   "metadata": {},
   "outputs": [],
   "source": []
  },
  {
   "cell_type": "code",
   "execution_count": null,
   "metadata": {},
   "outputs": [],
   "source": [
    "# We get the tweet data set \n",
    "\n",
    "df = pd.read_csv('classified_data1.csv')"
   ]
  },
  {
   "cell_type": "code",
   "execution_count": null,
   "metadata": {},
   "outputs": [],
   "source": [
    "df.head()"
   ]
  },
  {
   "cell_type": "code",
   "execution_count": null,
   "metadata": {},
   "outputs": [],
   "source": [
    "# Drop the unneeded columns \n",
    "\n",
    "df = df.drop(['Unnamed: 0', 'Unnamed: 0.1', 'Unnamed: 0.1.1', 'start date', 'end date'], axis =1)"
   ]
  },
  {
   "cell_type": "code",
   "execution_count": null,
   "metadata": {},
   "outputs": [],
   "source": [
    "# We see that a lot of the tweets have no state\n",
    "\n",
    "print(df[pd.isna(df['state'])].shape[0])"
   ]
  },
  {
   "cell_type": "code",
   "execution_count": null,
   "metadata": {},
   "outputs": [],
   "source": [
    "# We drop the tweets where the state is nan\n",
    "\n",
    "df = df.dropna(subset = ['state'])\n",
    "\n",
    "# And reset the indexes \n",
    "\n",
    "df = df.reset_index()"
   ]
  },
  {
   "cell_type": "code",
   "execution_count": null,
   "metadata": {},
   "outputs": [],
   "source": [
    "# Now we want to add an extra column containing the state id from the coordinates\n",
    "\n",
    "state_ids_list = []\n",
    "\n",
    "for i in range(df.shape[0]):\n",
    "    \n",
    "    state = df['state'][i] \n",
    "    state_id = state_names.index(state)\n",
    "    state_ids_list.append(state_id)"
   ]
  },
  {
   "cell_type": "code",
   "execution_count": null,
   "metadata": {},
   "outputs": [],
   "source": [
    "# We add the column\n",
    "\n",
    "df['state_id'] = state_ids_list\n"
   ]
  },
  {
   "cell_type": "code",
   "execution_count": null,
   "metadata": {},
   "outputs": [],
   "source": [
    "df.head()"
   ]
  },
  {
   "cell_type": "code",
   "execution_count": null,
   "metadata": {},
   "outputs": [],
   "source": []
  },
  {
   "cell_type": "code",
   "execution_count": null,
   "metadata": {},
   "outputs": [],
   "source": []
  },
  {
   "cell_type": "code",
   "execution_count": null,
   "metadata": {},
   "outputs": [],
   "source": []
  },
  {
   "cell_type": "code",
   "execution_count": null,
   "metadata": {},
   "outputs": [],
   "source": [
    "# We want to change the data column to the just days \n",
    "\n",
    "df['date'] = pd.to_datetime(df['date']).dt.date"
   ]
  },
  {
   "cell_type": "code",
   "execution_count": null,
   "metadata": {},
   "outputs": [],
   "source": [
    "df.head()"
   ]
  },
  {
   "cell_type": "code",
   "execution_count": null,
   "metadata": {},
   "outputs": [],
   "source": [
    "df.dtypes"
   ]
  },
  {
   "cell_type": "code",
   "execution_count": null,
   "metadata": {},
   "outputs": [],
   "source": []
  },
  {
   "cell_type": "code",
   "execution_count": null,
   "metadata": {},
   "outputs": [],
   "source": []
  },
  {
   "cell_type": "code",
   "execution_count": null,
   "metadata": {},
   "outputs": [],
   "source": []
  },
  {
   "cell_type": "code",
   "execution_count": null,
   "metadata": {},
   "outputs": [],
   "source": [
    "# We notice that none of the tweets are from puerto rico or district of columbia, hence we drop them from the df\n",
    "\n",
    "\n",
    "print(df[df['state'] == 'Puerto Rico'].shape[0])\n",
    "print(df[df['state'] == 'District Of Columbia'].shape[0])\n",
    "\n",
    "\n",
    "state_ids_df = state_ids_df.drop(state_ids_df[state_ids_df['State Name'] == 'Puerto Rico'].index.item())\n",
    "state_ids_df = state_ids_df.drop(state_ids_df[state_ids_df['State Name'] == 'District of Columbia'].index.item())"
   ]
  },
  {
   "cell_type": "code",
   "execution_count": null,
   "metadata": {},
   "outputs": [],
   "source": [
    "state_ids_df"
   ]
  },
  {
   "cell_type": "code",
   "execution_count": null,
   "metadata": {},
   "outputs": [],
   "source": []
  },
  {
   "cell_type": "code",
   "execution_count": null,
   "metadata": {},
   "outputs": [],
   "source": []
  },
  {
   "cell_type": "code",
   "execution_count": null,
   "metadata": {},
   "outputs": [],
   "source": []
  },
  {
   "cell_type": "code",
   "execution_count": null,
   "metadata": {},
   "outputs": [],
   "source": [
    "# We want to get the average sentiment per state over all time\n",
    "\n",
    "avg_sentiments = []\n",
    "\n",
    "for i in state_ids_df['id']:\n",
    "    \n",
    "    avg_sentiments.append(df['sentiment'][df[df['state_id'] == i].index].mean())"
   ]
  },
  {
   "cell_type": "code",
   "execution_count": null,
   "metadata": {},
   "outputs": [],
   "source": [
    "# We add the column to the df\n",
    "\n",
    "state_ids_df['avg_sentiment'] = avg_sentiments\n",
    "\n",
    "state_ids_df"
   ]
  },
  {
   "cell_type": "code",
   "execution_count": null,
   "metadata": {},
   "outputs": [],
   "source": [
    "# We now plot the graph\n",
    "\n",
    "import plotly.express as px\n",
    "\n",
    "fig = px.choropleth_mapbox(state_ids_df, geojson=states, locations='id', color='avg_sentiment',\n",
    "                           color_continuous_scale=\"hot\",\n",
    "                           range_color=(-0.5, 0),\n",
    "                           hover_name='State Name',\n",
    "                           mapbox_style=\"carto-positron\",\n",
    "                           zoom=3, center = {\"lat\": 37.0902, \"lon\": -95.7129},\n",
    "                           opacity=0.5,\n",
    "                           labels={'avg_sentiment':'Average Sentiment'}\n",
    "                          )\n",
    "fig.update_layout(margin={\"r\":0,\"t\":0,\"l\":0,\"b\":0})\n",
    "fig.show()"
   ]
  },
  {
   "cell_type": "code",
   "execution_count": null,
   "metadata": {},
   "outputs": [],
   "source": []
  },
  {
   "cell_type": "code",
   "execution_count": null,
   "metadata": {},
   "outputs": [],
   "source": []
  },
  {
   "cell_type": "code",
   "execution_count": null,
   "metadata": {},
   "outputs": [],
   "source": []
  },
  {
   "cell_type": "code",
   "execution_count": null,
   "metadata": {},
   "outputs": [],
   "source": [
    "# Now we want to plot the same thing over the days\n",
    "\n",
    "# We see the range of the tweets\n",
    "\n",
    "print(df['date'].min())\n",
    "print(df['date'].max())"
   ]
  },
  {
   "cell_type": "code",
   "execution_count": null,
   "metadata": {},
   "outputs": [],
   "source": [
    "# We sort the df by the dates\n",
    "\n",
    "df = df.sort_values(by = ['date'])"
   ]
  },
  {
   "cell_type": "code",
   "execution_count": null,
   "metadata": {},
   "outputs": [],
   "source": [
    "df"
   ]
  },
  {
   "cell_type": "code",
   "execution_count": null,
   "metadata": {},
   "outputs": [],
   "source": [
    "# We make a duplicate of df so that we can change the date column to only months\n",
    "\n",
    "df_months = df\n",
    "\n",
    "df_months['date'] = pd.to_datetime(df_months['date']).dt.month"
   ]
  },
  {
   "cell_type": "code",
   "execution_count": null,
   "metadata": {},
   "outputs": [],
   "source": [
    "df_months"
   ]
  },
  {
   "cell_type": "code",
   "execution_count": null,
   "metadata": {},
   "outputs": [],
   "source": [
    "# We test on the first month, 2020-03, and get the average of californias sentiment over that month\n",
    "\n",
    "    \n",
    "cali_df = df_months[df_months['state_id'] == 22]\n",
    "\n",
    "cali_fm_df = cali_df[cali_df['date'] == 3]\n",
    "cali_fm_df = cali_fm_df.reset_index()\n",
    "\n",
    "print(cali_fm_df.shape[0])\n",
    "print(cali_fm_df['sentiment'].mean())"
   ]
  },
  {
   "cell_type": "code",
   "execution_count": null,
   "metadata": {},
   "outputs": [],
   "source": [
    "# Now we make a dataframe doing this for each month for each state \n",
    "\n",
    "state_names = []\n",
    "state_ids = []\n",
    "months = []\n",
    "avg_senitments_month = []\n",
    "no_tweets_month = []\n",
    "\n",
    "months_iterate = [3, 4, 5, 6, 7, 8, 9, 10, 11, 12, 1, 2]\n",
    "\n",
    "for m in months_iterate:\n",
    "    for i in state_ids_df['id']:\n",
    "        \n",
    "        state_df = df_months[df_months['state_id'] == i]\n",
    "        state_month_df = state_df[state_df['date'] == m]\n",
    "        month_avg_sentiment = state_month_df['sentiment'].mean()\n",
    "        no_tweets_ = state_month_df.shape[0]\n",
    "        \n",
    "        state_names.append(state_ids_df['State Name'][i])\n",
    "        state_ids.append(i)\n",
    "        months.append(m)\n",
    "        avg_senitments_month.append(month_avg_sentiment)\n",
    "        no_tweets_month.append(no_tweets_)"
   ]
  },
  {
   "cell_type": "code",
   "execution_count": null,
   "metadata": {},
   "outputs": [],
   "source": [
    "# Put it into a dataframe\n",
    "\n",
    "columns = ['State Name', 'id', 'Month', 'Average Sentiment', 'Number Of Tweets']\n",
    "month_avg_sentiment_df = pd.DataFrame(columns = columns)\n",
    "\n",
    "month_avg_sentiment_df['State Name'] = state_names\n",
    "month_avg_sentiment_df['id'] = state_ids\n",
    "month_avg_sentiment_df['Month'] = months\n",
    "month_avg_sentiment_df['Average Sentiment'] = avg_senitments_month\n",
    "month_avg_sentiment_df['Number Of Tweets'] = no_tweets_month"
   ]
  },
  {
   "cell_type": "code",
   "execution_count": null,
   "metadata": {},
   "outputs": [],
   "source": [
    "month_avg_sentiment_df"
   ]
  },
  {
   "cell_type": "code",
   "execution_count": null,
   "metadata": {},
   "outputs": [],
   "source": [
    "# We want to change the month column to a string for the purpose of the graph\n",
    "\n",
    "import calendar\n",
    "\n",
    "month_avg_sentiment_df = month_avg_sentiment_df.reset_index()\n",
    "\n",
    "for i in range(month_avg_sentiment_df.shape[0]):\n",
    "    month_avg_sentiment_df['Month'][i] = calendar.month_name[month_avg_sentiment_df['Month'][i]]\n",
    "\n",
    "\n",
    "month_avg_sentiment_df"
   ]
  },
  {
   "cell_type": "code",
   "execution_count": null,
   "metadata": {},
   "outputs": [],
   "source": [
    "# We now plot this information over time\n",
    "\n",
    "fig = px.choropleth_mapbox(month_avg_sentiment_df, geojson=states, locations='id', color='Average Sentiment',\n",
    "                           color_continuous_scale=\"hot\",\n",
    "                           range_color=(-1, 1),\n",
    "                           hover_name='State Name',\n",
    "                           mapbox_style=\"carto-positron\",\n",
    "                           zoom=3, center = {\"lat\": 37.0902, \"lon\": -95.7129},\n",
    "                           opacity=0.5,\n",
    "                           labels={'Average Sentiment':'Average Sentiment'},\n",
    "                           animation_frame =\"Month\"\n",
    "                          )\n",
    "fig.update_layout(margin={\"r\":0,\"t\":0,\"l\":0,\"b\":0})\n",
    "fig.show()"
   ]
  },
  {
   "cell_type": "code",
   "execution_count": null,
   "metadata": {},
   "outputs": [],
   "source": []
  }
 ],
 "metadata": {
  "kernelspec": {
   "display_name": "Python 3",
   "language": "python",
   "name": "python3"
  },
  "language_info": {
   "codemirror_mode": {
    "name": "ipython",
    "version": 3
   },
   "file_extension": ".py",
   "mimetype": "text/x-python",
   "name": "python",
   "nbconvert_exporter": "python",
   "pygments_lexer": "ipython3",
   "version": "3.7.4"
  }
 },
 "nbformat": 4,
 "nbformat_minor": 2
}
