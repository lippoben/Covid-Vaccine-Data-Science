{
 "cells": [
  {
   "cell_type": "markdown",
   "metadata": {},
   "source": [
    "# TEXTBLOB"
   ]
  },
  {
   "cell_type": "code",
   "execution_count": 3,
   "metadata": {},
   "outputs": [],
   "source": [
    "import pandas as pd\n",
    "\n",
    "from nltk.sentiment.vader import SentimentIntensityAnalyzer\n",
    "from nltk.sentiment.util import *\n",
    "from textblob import TextBlob\n",
    "from nltk import tokenize\n",
    "from matplotlib import pyplot as plt"
   ]
  },
  {
   "cell_type": "code",
   "execution_count": 5,
   "metadata": {},
   "outputs": [
    {
     "name": "stderr",
     "output_type": "stream",
     "text": [
      "/Users/victoriaadcock/anaconda3/lib/python3.7/site-packages/IPython/core/interactiveshell.py:3049: DtypeWarning: Columns (5,6) have mixed types. Specify dtype option on import or set low_memory=False.\n",
      "  interactivity=interactivity, compiler=compiler, result=result)\n"
     ]
    },
    {
     "data": {
      "text/html": [
       "<div>\n",
       "<style scoped>\n",
       "    .dataframe tbody tr th:only-of-type {\n",
       "        vertical-align: middle;\n",
       "    }\n",
       "\n",
       "    .dataframe tbody tr th {\n",
       "        vertical-align: top;\n",
       "    }\n",
       "\n",
       "    .dataframe thead th {\n",
       "        text-align: right;\n",
       "    }\n",
       "</style>\n",
       "<table border=\"1\" class=\"dataframe\">\n",
       "  <thead>\n",
       "    <tr style=\"text-align: right;\">\n",
       "      <th></th>\n",
       "      <th>date</th>\n",
       "      <th>CleanedTweet</th>\n",
       "      <th>replyCount</th>\n",
       "      <th>retweetCount</th>\n",
       "      <th>likeCount</th>\n",
       "      <th>state</th>\n",
       "      <th>start date</th>\n",
       "      <th>end date</th>\n",
       "    </tr>\n",
       "  </thead>\n",
       "  <tbody>\n",
       "    <tr>\n",
       "      <th>0</th>\n",
       "      <td>2020-03-31 22:25:13+00:00</td>\n",
       "      <td>looks like study ga device vaccine treatment l...</td>\n",
       "      <td>0.0</td>\n",
       "      <td>0</td>\n",
       "      <td>1</td>\n",
       "      <td>Alabama</td>\n",
       "      <td>01/03/2020</td>\n",
       "      <td>01/04/2020</td>\n",
       "    </tr>\n",
       "    <tr>\n",
       "      <th>1</th>\n",
       "      <td>2020-03-31 16:54:46+00:00</td>\n",
       "      <td>uga team say vaccine coronavirus</td>\n",
       "      <td>6.0</td>\n",
       "      <td>2</td>\n",
       "      <td>32</td>\n",
       "      <td>Alabama</td>\n",
       "      <td>01/03/2020</td>\n",
       "      <td>01/04/2020</td>\n",
       "    </tr>\n",
       "    <tr>\n",
       "      <th>2</th>\n",
       "      <td>2020-03-31 10:55:38+00:00</td>\n",
       "      <td>draw line wa riding followers vote jess vote a...</td>\n",
       "      <td>0.0</td>\n",
       "      <td>1</td>\n",
       "      <td>5</td>\n",
       "      <td>Alabama</td>\n",
       "      <td>01/03/2020</td>\n",
       "      <td>01/04/2020</td>\n",
       "    </tr>\n",
       "    <tr>\n",
       "      <th>3</th>\n",
       "      <td>2020-03-31 05:08:05+00:00</td>\n",
       "      <td>make carona vaccine make mandatory child get d...</td>\n",
       "      <td>0.0</td>\n",
       "      <td>1</td>\n",
       "      <td>2</td>\n",
       "      <td>Alabama</td>\n",
       "      <td>01/03/2020</td>\n",
       "      <td>01/04/2020</td>\n",
       "    </tr>\n",
       "    <tr>\n",
       "      <th>4</th>\n",
       "      <td>2020-03-30 23:51:48+00:00</td>\n",
       "      <td>exciting news second vaccine trial site</td>\n",
       "      <td>0.0</td>\n",
       "      <td>2</td>\n",
       "      <td>5</td>\n",
       "      <td>Alabama</td>\n",
       "      <td>01/03/2020</td>\n",
       "      <td>01/04/2020</td>\n",
       "    </tr>\n",
       "  </tbody>\n",
       "</table>\n",
       "</div>"
      ],
      "text/plain": [
       "                        date  \\\n",
       "0  2020-03-31 22:25:13+00:00   \n",
       "1  2020-03-31 16:54:46+00:00   \n",
       "2  2020-03-31 10:55:38+00:00   \n",
       "3  2020-03-31 05:08:05+00:00   \n",
       "4  2020-03-30 23:51:48+00:00   \n",
       "\n",
       "                                        CleanedTweet  replyCount retweetCount  \\\n",
       "0  looks like study ga device vaccine treatment l...         0.0            0   \n",
       "1                   uga team say vaccine coronavirus         6.0            2   \n",
       "2  draw line wa riding followers vote jess vote a...         0.0            1   \n",
       "3  make carona vaccine make mandatory child get d...         0.0            1   \n",
       "4            exciting news second vaccine trial site         0.0            2   \n",
       "\n",
       "  likeCount    state  start date    end date  \n",
       "0         1  Alabama  01/03/2020  01/04/2020  \n",
       "1        32  Alabama  01/03/2020  01/04/2020  \n",
       "2         5  Alabama  01/03/2020  01/04/2020  \n",
       "3         2  Alabama  01/03/2020  01/04/2020  \n",
       "4         5  Alabama  01/03/2020  01/04/2020  "
      ]
     },
     "execution_count": 5,
     "metadata": {},
     "output_type": "execute_result"
    }
   ],
   "source": [
    "use_cols = ['CleanedTweet', 'state','date','start date','end date', 'replyCount','retweetCount','likeCount']\n",
    "df = pd.read_csv('Datasets/cleaned_vaccine_tweets.csv', usecols = use_cols)\n",
    "df.head()"
   ]
  },
  {
   "cell_type": "code",
   "execution_count": 6,
   "metadata": {},
   "outputs": [],
   "source": [
    "df['CleanedTweet'] = df['CleanedTweet'].astype('str')"
   ]
  },
  {
   "cell_type": "code",
   "execution_count": 7,
   "metadata": {},
   "outputs": [],
   "source": [
    "def get_polarity(text):\n",
    "    return TextBlob(text).sentiment.polarity\n",
    "\n",
    "df['Polarity'] = df['CleanedTweet'].apply(get_polarity)"
   ]
  },
  {
   "cell_type": "code",
   "execution_count": 8,
   "metadata": {},
   "outputs": [],
   "source": [
    "df['Textblob_Sentiment_Type']=''\n",
    "df.loc[df.Polarity>0,'Textblob_Sentiment_Type']='1'\n",
    "df.loc[df.Polarity==0,'Textblob_Sentiment_Type']='0'\n",
    "df.loc[df.Polarity<0,'Textblob_Sentiment_Type']='-1'"
   ]
  },
  {
   "cell_type": "code",
   "execution_count": 18,
   "metadata": {},
   "outputs": [
    {
     "data": {
      "text/plain": [
       "<matplotlib.axes._subplots.AxesSubplot at 0x7feaba751b70>"
      ]
     },
     "execution_count": 18,
     "metadata": {},
     "output_type": "execute_result"
    },
    {
     "data": {
      "image/png": "[encoded data removed]",
      "text/plain": [
       "<Figure size 432x288 with 1 Axes>"
      ]
     },
     "metadata": {
      "needs_background": "light"
     },
     "output_type": "display_data"
    }
   ],
   "source": [
    "df.Textblob_Sentiment_Type.value_counts().plot(kind='bar',title=\"TextBlob Sentiment Analysis\", color = ['limegreen','khaki','tomato'])"
   ]
  },
  {
   "cell_type": "markdown",
   "metadata": {},
   "source": [
    "# VADER"
   ]
  },
  {
   "cell_type": "code",
   "execution_count": 10,
   "metadata": {},
   "outputs": [],
   "source": [
    "import nltk\n",
    "#nltk.download('vader_lexicon')"
   ]
  },
  {
   "cell_type": "code",
   "execution_count": 11,
   "metadata": {},
   "outputs": [],
   "source": [
    "from nltk.sentiment.vader import SentimentIntensityAnalyzer\n",
    "\n",
    "sid = SentimentIntensityAnalyzer()"
   ]
  },
  {
   "cell_type": "code",
   "execution_count": 20,
   "metadata": {},
   "outputs": [],
   "source": [
    "df['scores'] = df['CleanedTweet'].apply(lambda tweet: sid.polarity_scores(tweet))"
   ]
  },
  {
   "cell_type": "code",
   "execution_count": 21,
   "metadata": {},
   "outputs": [],
   "source": [
    "df['compound']  = df['scores'].apply(lambda score_dict: score_dict['compound'])"
   ]
  },
  {
   "cell_type": "code",
   "execution_count": 14,
   "metadata": {},
   "outputs": [
    {
     "data": {
      "text/html": [
       "<div>\n",
       "<style scoped>\n",
       "    .dataframe tbody tr th:only-of-type {\n",
       "        vertical-align: middle;\n",
       "    }\n",
       "\n",
       "    .dataframe tbody tr th {\n",
       "        vertical-align: top;\n",
       "    }\n",
       "\n",
       "    .dataframe thead th {\n",
       "        text-align: right;\n",
       "    }\n",
       "</style>\n",
       "<table border=\"1\" class=\"dataframe\">\n",
       "  <thead>\n",
       "    <tr style=\"text-align: right;\">\n",
       "      <th></th>\n",
       "      <th>date</th>\n",
       "      <th>CleanedTweet</th>\n",
       "      <th>replyCount</th>\n",
       "      <th>retweetCount</th>\n",
       "      <th>likeCount</th>\n",
       "      <th>state</th>\n",
       "      <th>start date</th>\n",
       "      <th>end date</th>\n",
       "      <th>Polarity</th>\n",
       "      <th>Textblob_Sentiment_Type</th>\n",
       "      <th>scores</th>\n",
       "      <th>compound</th>\n",
       "      <th>vader_sentiment_type</th>\n",
       "    </tr>\n",
       "  </thead>\n",
       "  <tbody>\n",
       "    <tr>\n",
       "      <th>0</th>\n",
       "      <td>2020-03-31 22:25:13+00:00</td>\n",
       "      <td>looks like study ga device vaccine treatment l...</td>\n",
       "      <td>0.0</td>\n",
       "      <td>0</td>\n",
       "      <td>1</td>\n",
       "      <td>Alabama</td>\n",
       "      <td>01/03/2020</td>\n",
       "      <td>01/04/2020</td>\n",
       "      <td>0.45</td>\n",
       "      <td>1</td>\n",
       "      <td>{'neg': 0.0, 'neu': 0.62, 'pos': 0.38, 'compou...</td>\n",
       "      <td>0.8481</td>\n",
       "      <td>1</td>\n",
       "    </tr>\n",
       "    <tr>\n",
       "      <th>1</th>\n",
       "      <td>2020-03-31 16:54:46+00:00</td>\n",
       "      <td>uga team say vaccine coronavirus</td>\n",
       "      <td>6.0</td>\n",
       "      <td>2</td>\n",
       "      <td>32</td>\n",
       "      <td>Alabama</td>\n",
       "      <td>01/03/2020</td>\n",
       "      <td>01/04/2020</td>\n",
       "      <td>0.00</td>\n",
       "      <td>0</td>\n",
       "      <td>{'neg': 0.0, 'neu': 1.0, 'pos': 0.0, 'compound...</td>\n",
       "      <td>0.0000</td>\n",
       "      <td>0</td>\n",
       "    </tr>\n",
       "    <tr>\n",
       "      <th>2</th>\n",
       "      <td>2020-03-31 10:55:38+00:00</td>\n",
       "      <td>draw line wa riding followers vote jess vote a...</td>\n",
       "      <td>0.0</td>\n",
       "      <td>1</td>\n",
       "      <td>5</td>\n",
       "      <td>Alabama</td>\n",
       "      <td>01/03/2020</td>\n",
       "      <td>01/04/2020</td>\n",
       "      <td>0.00</td>\n",
       "      <td>0</td>\n",
       "      <td>{'neg': 0.0, 'neu': 0.814, 'pos': 0.186, 'comp...</td>\n",
       "      <td>0.4939</td>\n",
       "      <td>1</td>\n",
       "    </tr>\n",
       "    <tr>\n",
       "      <th>3</th>\n",
       "      <td>2020-03-31 05:08:05+00:00</td>\n",
       "      <td>make carona vaccine make mandatory child get d...</td>\n",
       "      <td>0.0</td>\n",
       "      <td>1</td>\n",
       "      <td>2</td>\n",
       "      <td>Alabama</td>\n",
       "      <td>01/03/2020</td>\n",
       "      <td>01/04/2020</td>\n",
       "      <td>0.00</td>\n",
       "      <td>0</td>\n",
       "      <td>{'neg': 0.14, 'neu': 0.645, 'pos': 0.215, 'com...</td>\n",
       "      <td>0.1027</td>\n",
       "      <td>1</td>\n",
       "    </tr>\n",
       "    <tr>\n",
       "      <th>4</th>\n",
       "      <td>2020-03-30 23:51:48+00:00</td>\n",
       "      <td>exciting news second vaccine trial site</td>\n",
       "      <td>0.0</td>\n",
       "      <td>2</td>\n",
       "      <td>5</td>\n",
       "      <td>Alabama</td>\n",
       "      <td>01/03/2020</td>\n",
       "      <td>01/04/2020</td>\n",
       "      <td>0.15</td>\n",
       "      <td>1</td>\n",
       "      <td>{'neg': 0.0, 'neu': 0.61, 'pos': 0.39, 'compou...</td>\n",
       "      <td>0.4939</td>\n",
       "      <td>1</td>\n",
       "    </tr>\n",
       "  </tbody>\n",
       "</table>\n",
       "</div>"
      ],
      "text/plain": [
       "                        date  \\\n",
       "0  2020-03-31 22:25:13+00:00   \n",
       "1  2020-03-31 16:54:46+00:00   \n",
       "2  2020-03-31 10:55:38+00:00   \n",
       "3  2020-03-31 05:08:05+00:00   \n",
       "4  2020-03-30 23:51:48+00:00   \n",
       "\n",
       "                                        CleanedTweet  replyCount retweetCount  \\\n",
       "0  looks like study ga device vaccine treatment l...         0.0            0   \n",
       "1                   uga team say vaccine coronavirus         6.0            2   \n",
       "2  draw line wa riding followers vote jess vote a...         0.0            1   \n",
       "3  make carona vaccine make mandatory child get d...         0.0            1   \n",
       "4            exciting news second vaccine trial site         0.0            2   \n",
       "\n",
       "  likeCount    state  start date    end date  Polarity  \\\n",
       "0         1  Alabama  01/03/2020  01/04/2020      0.45   \n",
       "1        32  Alabama  01/03/2020  01/04/2020      0.00   \n",
       "2         5  Alabama  01/03/2020  01/04/2020      0.00   \n",
       "3         2  Alabama  01/03/2020  01/04/2020      0.00   \n",
       "4         5  Alabama  01/03/2020  01/04/2020      0.15   \n",
       "\n",
       "  Textblob_Sentiment_Type                                             scores  \\\n",
       "0                       1  {'neg': 0.0, 'neu': 0.62, 'pos': 0.38, 'compou...   \n",
       "1                       0  {'neg': 0.0, 'neu': 1.0, 'pos': 0.0, 'compound...   \n",
       "2                       0  {'neg': 0.0, 'neu': 0.814, 'pos': 0.186, 'comp...   \n",
       "3                       0  {'neg': 0.14, 'neu': 0.645, 'pos': 0.215, 'com...   \n",
       "4                       1  {'neg': 0.0, 'neu': 0.61, 'pos': 0.39, 'compou...   \n",
       "\n",
       "   compound vader_sentiment_type  \n",
       "0    0.8481                    1  \n",
       "1    0.0000                    0  \n",
       "2    0.4939                    1  \n",
       "3    0.1027                    1  \n",
       "4    0.4939                    1  "
      ]
     },
     "execution_count": 14,
     "metadata": {},
     "output_type": "execute_result"
    }
   ],
   "source": [
    "df['vader_sentiment_type'] = df['compound'].apply(lambda c: '1' if c > 0 else '0' if c == 0 else '-1')\n",
    "\n",
    "df.head()"
   ]
  },
  {
   "cell_type": "code",
   "execution_count": 23,
   "metadata": {},
   "outputs": [
    {
     "data": {
      "text/plain": [
       "<matplotlib.axes._subplots.AxesSubplot at 0x7feaba718438>"
      ]
     },
     "execution_count": 23,
     "metadata": {},
     "output_type": "execute_result"
    },
    {
     "data": {
      "image/png": "[encoded data removed]",
      "text/plain": [
       "<Figure size 432x288 with 1 Axes>"
      ]
     },
     "metadata": {
      "needs_background": "light"
     },
     "output_type": "display_data"
    }
   ],
   "source": [
    "df.vader_sentiment_type.value_counts().plot(kind='bar',title=\"VADER Sentiment Analysis\",color = ['limegreen','tomato','khaki'])"
   ]
  },
  {
   "cell_type": "code",
   "execution_count": 16,
   "metadata": {},
   "outputs": [],
   "source": [
    "df.to_csv('Datasets/textblob_vader_classified.csv',index=False)"
   ]
  },
  {
   "cell_type": "code",
   "execution_count": null,
   "metadata": {},
   "outputs": [],
   "source": []
  }
 ],
 "metadata": {
  "kernelspec": {
   "display_name": "Python 3",
   "language": "python",
   "name": "python3"
  },
  "language_info": {
   "codemirror_mode": {
    "name": "ipython",
    "version": 3
   },
   "file_extension": ".py",
   "mimetype": "text/x-python",
   "name": "python",
   "nbconvert_exporter": "python",
   "pygments_lexer": "ipython3",
   "version": "3.7.3"
  }
 },
 "nbformat": 4,
 "nbformat_minor": 2
}
